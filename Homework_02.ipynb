{
  "cells": [
    {
      "cell_type": "markdown",
      "metadata": {
        "id": "bboj6aa0xHV1"
      },
      "source": [
        "# Logistic Regression Homework\n",
        "\n",
        "This is the 2nd assignment for CAP 4630 and we will implement logistic regression and apply it to two\n",
        "different datasets. \\\n",
        "You will use **\"Tasks\"** and **\"Hints\"** to finish the work. **(Total 100 Points)** \\\n",
        "You are **not** allowed to use Machine Learning libaries such as Scikit-learn and Keras.\n",
        "\n",
        "**Task Overview:**\n",
        "- Logistic Regression"
      ]
    },
    {
      "cell_type": "markdown",
      "source": [
        "PID: 512376\\\n",
        "Name: Rhami Thrower\\\n",
        "Colaboration: N/A"
      ],
      "metadata": {
        "id": "3ozurChcI5Xt"
      }
    },
    {
      "cell_type": "markdown",
      "metadata": {
        "id": "j4Ar3J6pxHV4"
      },
      "source": [
        "## 1 - Logistic Regression ##\n",
        "### 1.1 Packages\n",
        "\n",
        "Import useful packages for scientific computing and data processing.\n",
        "\n",
        "**Tasks:**\n",
        "1. Import numpy and rename it to np.\n",
        "2. Import pandas and rename it to pd.\n",
        "3. Import the pyplot function in the libraray of matplotlib and rename it to plt.\n",
        "\n",
        "References:\n",
        "- [numpy](www.numpy.org) is the fundamental package for scientific computing with Python.\n",
        "- [matplotlib](http://matplotlib.org) is a famous library to plot graphs in Python.\n",
        "\n",
        "**Attention:**\n",
        "1. After this renaming, you will use the new name to call functions. For example, **numpy** will become **np** in the following sections."
      ]
    },
    {
      "cell_type": "code",
      "execution_count": null,
      "metadata": {
        "id": "VmoB596jxHV5"
      },
      "outputs": [],
      "source": [
        "# Import and rename libraries here\n",
        "import numpy as np\n",
        "import pandas as pd\n",
        "import matplotlib.pyplot as plt"
      ]
    },
    {
      "cell_type": "markdown",
      "metadata": {
        "collapsed": true,
        "id": "fbk1Uw2AxHV6"
      },
      "source": [
        "### 1.2 - Data Preparation ##\n",
        "\n",
        "Prepare the data for regression task. **(20 Points)**\n",
        "\n",
        "**Tasks:**\n",
        "1. Load data for logistic regression.\n",
        "2. **Generate the SCATTER PLOT of the data**.\n",
        "\n",
        "**Hints:**\n",
        "1. The data file is \"data_logistic.csv\", which are exam scores for students.\n",
        "2. The data is organized by column: x1 (exam 1 score), x2 (exam 2 score), and label y (pass 1 or fail 0).\n",
        "3. Please use different colors for postive(label=1) and negative(label=0) data.\n",
        "4. An example of scatter plots is shown below.\n",
        "\n",
        "![](https://drive.google.com/uc?export=view&id=1CPv5s4W8SkUMa_sXCIz-NejSnFj-e1IH)"
      ]
    },
    {
      "cell_type": "code",
      "execution_count": null,
      "metadata": {
        "colab": {
          "base_uri": "https://localhost:8080/",
          "height": 528
        },
        "id": "JIIpcQVuxHV6",
        "outputId": "c940a70a-497c-4cdd-dcf7-311459f3d2d5"
      },
      "outputs": [
        {
          "output_type": "display_data",
          "data": {
            "text/plain": [
              "<IPython.core.display.HTML object>"
            ],
            "text/html": [
              "\n",
              "     <input type=\"file\" id=\"files-deef8bb3-8f09-422e-982d-cb7600d41647\" name=\"files[]\" multiple disabled\n",
              "        style=\"border:none\" />\n",
              "     <output id=\"result-deef8bb3-8f09-422e-982d-cb7600d41647\">\n",
              "      Upload widget is only available when the cell has been executed in the\n",
              "      current browser session. Please rerun this cell to enable.\n",
              "      </output>\n",
              "      <script>// Copyright 2017 Google LLC\n",
              "//\n",
              "// Licensed under the Apache License, Version 2.0 (the \"License\");\n",
              "// you may not use this file except in compliance with the License.\n",
              "// You may obtain a copy of the License at\n",
              "//\n",
              "//      http://www.apache.org/licenses/LICENSE-2.0\n",
              "//\n",
              "// Unless required by applicable law or agreed to in writing, software\n",
              "// distributed under the License is distributed on an \"AS IS\" BASIS,\n",
              "// WITHOUT WARRANTIES OR CONDITIONS OF ANY KIND, either express or implied.\n",
              "// See the License for the specific language governing permissions and\n",
              "// limitations under the License.\n",
              "\n",
              "/**\n",
              " * @fileoverview Helpers for google.colab Python module.\n",
              " */\n",
              "(function(scope) {\n",
              "function span(text, styleAttributes = {}) {\n",
              "  const element = document.createElement('span');\n",
              "  element.textContent = text;\n",
              "  for (const key of Object.keys(styleAttributes)) {\n",
              "    element.style[key] = styleAttributes[key];\n",
              "  }\n",
              "  return element;\n",
              "}\n",
              "\n",
              "// Max number of bytes which will be uploaded at a time.\n",
              "const MAX_PAYLOAD_SIZE = 100 * 1024;\n",
              "\n",
              "function _uploadFiles(inputId, outputId) {\n",
              "  const steps = uploadFilesStep(inputId, outputId);\n",
              "  const outputElement = document.getElementById(outputId);\n",
              "  // Cache steps on the outputElement to make it available for the next call\n",
              "  // to uploadFilesContinue from Python.\n",
              "  outputElement.steps = steps;\n",
              "\n",
              "  return _uploadFilesContinue(outputId);\n",
              "}\n",
              "\n",
              "// This is roughly an async generator (not supported in the browser yet),\n",
              "// where there are multiple asynchronous steps and the Python side is going\n",
              "// to poll for completion of each step.\n",
              "// This uses a Promise to block the python side on completion of each step,\n",
              "// then passes the result of the previous step as the input to the next step.\n",
              "function _uploadFilesContinue(outputId) {\n",
              "  const outputElement = document.getElementById(outputId);\n",
              "  const steps = outputElement.steps;\n",
              "\n",
              "  const next = steps.next(outputElement.lastPromiseValue);\n",
              "  return Promise.resolve(next.value.promise).then((value) => {\n",
              "    // Cache the last promise value to make it available to the next\n",
              "    // step of the generator.\n",
              "    outputElement.lastPromiseValue = value;\n",
              "    return next.value.response;\n",
              "  });\n",
              "}\n",
              "\n",
              "/**\n",
              " * Generator function which is called between each async step of the upload\n",
              " * process.\n",
              " * @param {string} inputId Element ID of the input file picker element.\n",
              " * @param {string} outputId Element ID of the output display.\n",
              " * @return {!Iterable<!Object>} Iterable of next steps.\n",
              " */\n",
              "function* uploadFilesStep(inputId, outputId) {\n",
              "  const inputElement = document.getElementById(inputId);\n",
              "  inputElement.disabled = false;\n",
              "\n",
              "  const outputElement = document.getElementById(outputId);\n",
              "  outputElement.innerHTML = '';\n",
              "\n",
              "  const pickedPromise = new Promise((resolve) => {\n",
              "    inputElement.addEventListener('change', (e) => {\n",
              "      resolve(e.target.files);\n",
              "    });\n",
              "  });\n",
              "\n",
              "  const cancel = document.createElement('button');\n",
              "  inputElement.parentElement.appendChild(cancel);\n",
              "  cancel.textContent = 'Cancel upload';\n",
              "  const cancelPromise = new Promise((resolve) => {\n",
              "    cancel.onclick = () => {\n",
              "      resolve(null);\n",
              "    };\n",
              "  });\n",
              "\n",
              "  // Wait for the user to pick the files.\n",
              "  const files = yield {\n",
              "    promise: Promise.race([pickedPromise, cancelPromise]),\n",
              "    response: {\n",
              "      action: 'starting',\n",
              "    }\n",
              "  };\n",
              "\n",
              "  cancel.remove();\n",
              "\n",
              "  // Disable the input element since further picks are not allowed.\n",
              "  inputElement.disabled = true;\n",
              "\n",
              "  if (!files) {\n",
              "    return {\n",
              "      response: {\n",
              "        action: 'complete',\n",
              "      }\n",
              "    };\n",
              "  }\n",
              "\n",
              "  for (const file of files) {\n",
              "    const li = document.createElement('li');\n",
              "    li.append(span(file.name, {fontWeight: 'bold'}));\n",
              "    li.append(span(\n",
              "        `(${file.type || 'n/a'}) - ${file.size} bytes, ` +\n",
              "        `last modified: ${\n",
              "            file.lastModifiedDate ? file.lastModifiedDate.toLocaleDateString() :\n",
              "                                    'n/a'} - `));\n",
              "    const percent = span('0% done');\n",
              "    li.appendChild(percent);\n",
              "\n",
              "    outputElement.appendChild(li);\n",
              "\n",
              "    const fileDataPromise = new Promise((resolve) => {\n",
              "      const reader = new FileReader();\n",
              "      reader.onload = (e) => {\n",
              "        resolve(e.target.result);\n",
              "      };\n",
              "      reader.readAsArrayBuffer(file);\n",
              "    });\n",
              "    // Wait for the data to be ready.\n",
              "    let fileData = yield {\n",
              "      promise: fileDataPromise,\n",
              "      response: {\n",
              "        action: 'continue',\n",
              "      }\n",
              "    };\n",
              "\n",
              "    // Use a chunked sending to avoid message size limits. See b/62115660.\n",
              "    let position = 0;\n",
              "    do {\n",
              "      const length = Math.min(fileData.byteLength - position, MAX_PAYLOAD_SIZE);\n",
              "      const chunk = new Uint8Array(fileData, position, length);\n",
              "      position += length;\n",
              "\n",
              "      const base64 = btoa(String.fromCharCode.apply(null, chunk));\n",
              "      yield {\n",
              "        response: {\n",
              "          action: 'append',\n",
              "          file: file.name,\n",
              "          data: base64,\n",
              "        },\n",
              "      };\n",
              "\n",
              "      let percentDone = fileData.byteLength === 0 ?\n",
              "          100 :\n",
              "          Math.round((position / fileData.byteLength) * 100);\n",
              "      percent.textContent = `${percentDone}% done`;\n",
              "\n",
              "    } while (position < fileData.byteLength);\n",
              "  }\n",
              "\n",
              "  // All done.\n",
              "  yield {\n",
              "    response: {\n",
              "      action: 'complete',\n",
              "    }\n",
              "  };\n",
              "}\n",
              "\n",
              "scope.google = scope.google || {};\n",
              "scope.google.colab = scope.google.colab || {};\n",
              "scope.google.colab._files = {\n",
              "  _uploadFiles,\n",
              "  _uploadFilesContinue,\n",
              "};\n",
              "})(self);\n",
              "</script> "
            ]
          },
          "metadata": {}
        },
        {
          "output_type": "stream",
          "name": "stdout",
          "text": [
            "Saving data_logistic.csv to data_logistic.csv\n"
          ]
        },
        {
          "output_type": "display_data",
          "data": {
            "text/plain": [
              "<Figure size 640x480 with 1 Axes>"
            ],
            "image/png": "[encoded data removed]"
          },
          "metadata": {}
        }
      ],
      "source": [
        "# Preprocess input data and generate plots\n",
        "\"\"\"     uploading data     \"\"\"\n",
        "from google.colab import files\n",
        "uploaded = files.upload()\n",
        "\n",
        "\"\"\"       creating df      \"\"\"\n",
        "data = pd.read_csv(\"data_logistic.csv\");\n",
        "df = pd.DataFrame(data = data)\n",
        "\"\"\"       creating plt     \"\"\"\n",
        "#creating df on pass and fail data\n",
        "pass_data = df[df['label'] == 1].copy()\n",
        "fail_data = df[df['label'] == 0].copy()\n",
        "#plot data\n",
        "x1 = pass_data['x1']\n",
        "x2 = fail_data['x1']\n",
        "y1 = pass_data['x2']\n",
        "y2 = fail_data['x2']\n",
        "\n",
        "plt.scatter(x1,y1, label = \"Pass\", marker = \"+\", color = \"gold\")\n",
        "plt.scatter(x2,y2, label = \"Fail\", marker = \"o\", color = \"purple\")\n",
        "plt.xlabel(\"X1\")\n",
        "plt.ylabel(\"x2\")\n",
        "plt.title(\"Pass v.s Fail Scores\")\n",
        "plt.legend()\n",
        "plt.show()"
      ]
    },
    {
      "cell_type": "markdown",
      "metadata": {
        "id": "77LzO4IVxHV7"
      },
      "source": [
        "### 1.3 - Sigmoid function ##\n",
        "\n",
        "\n",
        "Implement sigmoid function so it can be called by the rest of your program. **(20 Points)**\n",
        "\n",
        "**Tasks:**\n",
        "1. Implement the sigmoid function (**def sigmoid(z):**).\n",
        "2. Test the sigmoid function by function **plotting** with test data (X, Y) where Y = sigmoid(X).\n",
        "\n",
        "**Hints:**  \n",
        "1. Given the class material, sigmoid function is defined as:\n",
        "$g(z) = \\frac{1}{1+e^{-z}}$.\n",
        "2. You may consider X = np.linspace(-5, 5, 1000) to plot the curve.\n",
        "3. Plot Y against X.\n",
        "4. An example of plot for validation is shown below:\n",
        "\n",
        "![](https://drive.google.com/uc?export=view&id=18j5oHdw78uVm2WwHsdIb4hwhpXDxR37S)"
      ]
    },
    {
      "cell_type": "code",
      "execution_count": null,
      "metadata": {
        "id": "NR64CZJ8xHV7"
      },
      "outputs": [],
      "source": [
        "# Implement sigmoid fuction here\n",
        "import math\n",
        "def sigmoid(z):\n",
        "  return (1/(1 + math.e**(-z)))\n"
      ]
    },
    {
      "cell_type": "code",
      "execution_count": null,
      "metadata": {
        "id": "iisvju6TxHV7",
        "colab": {
          "base_uri": "https://localhost:8080/",
          "height": 430
        },
        "outputId": "bdfa9253-b5cf-4d37-cb9e-8bbe335a88fc"
      },
      "outputs": [
        {
          "output_type": "display_data",
          "data": {
            "text/plain": [
              "<Figure size 640x480 with 1 Axes>"
            ],
            "image/png": "[encoded data removed]"
          },
          "metadata": {}
        }
      ],
      "source": [
        "# Plot data here\n",
        "X = np.linspace(-5, 5, 1000)\n",
        "Y = sigmoid(X)\n",
        "\n",
        "plt.plot(X,Y)\n",
        "plt.show()"
      ]
    },
    {
      "cell_type": "markdown",
      "metadata": {
        "id": "HlsydLZFxHV8"
      },
      "source": [
        "### 1.4 - Cost function and gradient ##\n",
        "\n",
        "Implement the cross entropy cost function and its gradient for logistic regression. **(30 Points)**\n",
        "\n",
        "**Tasks:**\n",
        "1. Implement the \"cal_cost\" to compute the cost.\n",
        "2. Implement the \"cal_grad\" to compute the gradients.\n",
        "3. Test \"cal_cost\" and \"cal_grad\" with initial values and print out the results.\n",
        "\n",
        "**Hint:**\n",
        "1. The cross entropy cost function (J(θ)) in logistic regression is shown below. It involves two terms, including ylog(h) and (1-y)log(1-h) where h is the function of x.\n",
        "\n",
        "![](https://drive.google.com/uc?export=view&id=1xLhlPFI4wekwuA7lFm7ebRVt0XBZk3e7)\n",
        "\n",
        "2. The gradient of the cost J(θ) is a vector of the same length as θ where the $j$th element (for $j = 0, 1, . . . , n)$ is defined below. You may do a hand calculation to justify the first order derivative with the term above.\n",
        "\n",
        "![](https://drive.google.com/uc?export=view&id=1xfA0A0xyRv2L5JZIdedAmEZxZ3DwpOCF)\n",
        "\n",
        "3. When you implement J(θ), please use eps = 1e-15 to prevent possible \"divide by 0 exception\" in second term. You may think about the reason.\n",
        "4. You may consider the below templates for two functions:\n",
        "\n",
        "    def cal_cost(theta, X, y):\n",
        "\n",
        "        htheta = ...\n",
        "        term1 = ...  /* matrix_multiplication(log(htheta), y)\n",
        "        term2 = ...  /* matrix_multiplication(log(1-htheta+eps), (1-y))\n",
        "        J = - 1 / m * (term1 + term2)\n",
        "        \n",
        "        return cost\n",
        "        \n",
        "    \n",
        "    def cal_grad(theta, X, y):\n",
        "        \n",
        "        htheta = ...\n",
        "        term1 = ... /* matrix_multiplication(transpose(X), (htheta - y))  //you may think about why transpose(x)\n",
        "        grad = 1 / m * term1\n",
        "    \n",
        "        return grad\n",
        "5. It involves matrix multiplication and you may consider the function of np.matmul or np.dot.   \n",
        "        \n",
        "6. Initialize the intercept term (constant term) with **ones** and the theta with **zeros**. Test the functions with these initial values. \\\n",
        "    **Expected outputs:**\\\n",
        "    Cost at initial theta : 0.6931471805599445\\\n",
        "    Gradient at inital theta : [-0.1        -10.91242026 -11.73652937]\n"
      ]
    },
    {
      "cell_type": "code",
      "execution_count": null,
      "metadata": {
        "id": "tk965j87xHV8",
        "colab": {
          "base_uri": "https://localhost:8080/"
        },
        "outputId": "53941236-f641-4f6b-9c96-b895911f9d10"
      },
      "outputs": [
        {
          "output_type": "stream",
          "name": "stdout",
          "text": [
            "Cost at initial theta :  0.6931471805599445\n",
            "\n",
            "Gradient at inital theta :  [ -0.1        -10.91242026 -11.73652937]\n"
          ]
        }
      ],
      "source": [
        "# Implement the cost function here\n",
        "\"\"\"\n",
        "  htheta is\n",
        "\n",
        "  theta is\n",
        "\n",
        "  inputs are\n",
        "    x is\n",
        "    y is\n",
        "    theta is\n",
        "\"\"\"\n",
        "def cal_cost(theta, X, y):\n",
        "  bias = np.ones(len(df['x1']))\n",
        "  bias = np.reshape(bias,(len(bias), 1))\n",
        "  params = np.concatenate((bias, X), axis=1)\n",
        "  htheta = sigmoid((np.dot(params,theta)))\n",
        "  eps = 1e-15\n",
        "  m = -len(df) # num elements being procesed\n",
        "  term1 = np.matmul(np.log(htheta), y)\n",
        "  term2 = np.matmul(np.log(1 - htheta + eps), (1 - y))\n",
        "  cost = (1/m) * (term1 +term2)\n",
        "  return cost\n",
        "\n",
        "def cal_grad(theta, X, y):\n",
        "  bias = np.ones(len(df['x1']))\n",
        "  bias = np.reshape(bias,(len(bias), 1))\n",
        "  params = np.concatenate((bias, X), axis=1)\n",
        "  htheta = sigmoid((np.dot(params,theta)))\n",
        "  m = len(df)\n",
        "  term1 = np.matmul(np.transpose(params), (htheta - y))\n",
        "  grad = (1 / m) * term1\n",
        "  return grad\n",
        "\n",
        "#test\n",
        "#concatination for x1 and x2\n",
        "#df[[‘x1’,’x2’]]\n",
        "# y_hat = X1*W + x2*w + b\n",
        "#            ^      ^   ^\n",
        "#            0      0   0\n",
        "#how to calculat matrix multiplication\n",
        "bigX = np.array(df[['x1','x2']])\n",
        "theta = np.zeros(3)\n",
        "cost = cal_cost(theta,bigX, df['label'])\n",
        "grad = cal_grad(theta,bigX, df['label'])\n",
        "print(\"Cost at initial theta : \", cost)\n",
        "print(\"\\nGradient at inital theta : \", grad)"
      ]
    },
    {
      "cell_type": "markdown",
      "metadata": {
        "id": "UvCda-nAxHV9"
      },
      "source": [
        "## 1.5 Train parameters with Gradient Descent ##\n",
        "\n",
        "\n",
        "Train parameters using Gradient Descent. **(15 Points)**\n",
        "\n",
        "**Tasks:**\n",
        "1. Calculate best fit theta by Gradient Descent with learning rate of **0.001 (1e-3)** and epoch of **80K**. The initial theta from above blocks is used as initial values.\n",
        "2. Print out the best theta (the last one is considered as the best here) and its corresponding cost.\n",
        "3. **Plot the decision boundary**.\n",
        "\n",
        "**Hints:**\n",
        "1. You may take gradient descent in homework 1 as an template.\n",
        "2. Derive the boundary line from **sigmoid(theta[0]+ X1 * theta[1] + X2* theta[2])=0.5**. Think about why we get the line by setting **the activated probability to 0.5**. Also, try to calculate the final relationship between X1 and X2. When sigmoid(X) = 0.5, what is the value of x? Check the generated plot in 1.3.\n",
        "3. The validation of first 5 epochs (updated theta and cost): \\\n",
        "------Epoch 0------\\\n",
        "Theta: [0.0001     0.01091242 0.01173653]\\\n",
        "Cost: 0.6996118077359638\\\n",
        "------Epoch 1------\\\n",
        "Theta: [-0.0001129   0.00053949  0.00229352]\\\n",
        "Cost: 0.6649331468590681\\\n",
        "------Epoch 2------\\\n",
        "Theta: [-5.93604956e-05  8.33145873e-03  1.07754324e-02]\\\n",
        "Cost: 0.6679914364992459\\\n",
        "------Epoch 3------\\\n",
        "Theta: [-0.0002356   0.0004607   0.00370829]\\\n",
        "Cost: 0.6545873034874964\\\n",
        "------Epoch 4------\\\n",
        "Theta: [-0.00020363  0.00683227  0.01065138]\\\n",
        "Cost: 0.6563302142684528\n",
        "4. You may take the plots below as an exmample:\n",
        "\n",
        "![](https://drive.google.com/uc?export=view&id=1xLg9LrIF888gGXj3zRAG9iJLsyAmgPQg)\n",
        "\n",
        "5. It may take ~1 min to finish running."
      ]
    },
    {
      "cell_type": "code",
      "execution_count": null,
      "metadata": {
        "id": "fHgQN7aLxHV9",
        "colab": {
          "base_uri": "https://localhost:8080/"
        },
        "outputId": "0be07238-b66a-4656-b813-8b50f6b8b766"
      },
      "outputs": [
        {
          "output_type": "stream",
          "name": "stdout",
          "text": [
            "---------------------------\n",
            "epoch  0 \n",
            "Theta:  [0.0001, 0.0109124202646875, 0.011736529367687501]\n",
            "cost:  0.6996118077359638\n",
            "---------------------------\n",
            "epoch  1 \n",
            "Theta:  [-0.00011290115939107446, 0.0005394858872005397, 0.0022935225185411034]\n",
            "cost:  0.6649331468590681\n",
            "---------------------------\n",
            "epoch  2 \n",
            "Theta:  [-5.9360495627055735e-05, 0.008331458731803439, 0.010775432430364747]\n",
            "cost:  0.667991436499246\n",
            "---------------------------\n",
            "epoch  3 \n",
            "Theta:  [-0.00023560464124739247, 0.0004607009989962968, 0.003708293134405928]\n",
            "cost:  0.6545873034874964\n",
            "---------------------------\n",
            "epoch  4 \n",
            "Theta:  [-0.0002036298945990879, 0.006832274859499044, 0.010651382953816988]\n",
            "cost:  0.6563302142684528\n",
            "---------------------------\n",
            "epoch  5 \n",
            "Theta:  [-0.00036119747856856873, 0.0002645013079088871, 0.004780066498178845]\n",
            "cost:  0.6488500464051156\n",
            "---------------------------\n",
            "Final:  \n",
            "Theta:  [-3.8832977668227837, 0.029479866022945698, 0.039354476472507643]\n",
            "cost:  0.43838894881827817\n"
          ]
        }
      ],
      "source": [
        "# Gradient Descent Implementation Here\n",
        "def regression():\n",
        "  bigX = np.array(df[['x1','x2']])\n",
        "  theta = [0, 0, 0]\n",
        "  lr = 1e-3\n",
        "  epochs = int(8e4)\n",
        "  for n in range(epochs):\n",
        "    y_pred = df['x1']*theta[1] +df['x2']*theta[2] + theta[0]\n",
        "    #parital derivatives\n",
        "    grad = cal_grad(theta, bigX, df['label'])\n",
        "    theta[0] = theta[0] - lr * grad[0]\n",
        "    theta[1] = theta[1] - lr * grad[1]\n",
        "    theta[2] = theta[2] - lr * grad[2]\n",
        "    # cost\n",
        "    cost = cal_cost(theta, bigX, df['label'])\n",
        "    if n <= 5:\n",
        "      print('---------------------------\\nepoch ', n, '\\nTheta: ', theta)\n",
        "      print('cost: ', cost)\n",
        "  return theta,cost\n",
        "theta,cost = regression()\n",
        "print('---------------------------\\nFinal: ', '\\nTheta: ', theta)\n",
        "print('cost: ', cost)"
      ]
    },
    {
      "cell_type": "code",
      "execution_count": null,
      "metadata": {
        "id": "EtMJZFddxHV9",
        "colab": {
          "base_uri": "https://localhost:8080/",
          "height": 430
        },
        "outputId": "903a2c85-9be6-4115-e9ae-8142429ce39f"
      },
      "outputs": [
        {
          "output_type": "display_data",
          "data": {
            "text/plain": [
              "<Figure size 640x480 with 1 Axes>"
            ],
            "image/png": "[encoded data removed]"
          },
          "metadata": {}
        }
      ],
      "source": [
        "# Draw Decision Boundary Here\n",
        "X1 = np.linspace(min(df['x1']), max(df['x1']), 80)\n",
        "X2 = - (theta[0] / theta[2]) - (theta[1] / theta[2]) * X1\n",
        "fig,axis = plt.subplots()\n",
        "axis.scatter(x1, y1, color = 'gold', marker = '+')\n",
        "axis.scatter(x2, y2, color = 'purple', marker = 'o')\n",
        "axis.plot(X1,X2, label = 'boundry')\n",
        "fig.show()"
      ]
    },
    {
      "cell_type": "markdown",
      "metadata": {
        "id": "88F8jah6xHV9"
      },
      "source": [
        "\n",
        "### 1.6 Evaluating Logistic Regression\n",
        "\n",
        "Evaluate the model with given data. **(15 Points)**\n",
        "\n",
        "**Tasks:**\n",
        "1. Calculate the training accuracy and **PRINT IT OUT**.\n",
        "2. Evaluate the predicted probability of the learnt model with x1 = 56 and x2 = 32 and **PRINT IT OUT**.\n",
        "\n",
        "\n",
        "**Hints:**  \n",
        "1. Positive(prediction>0.5) and negative(prediction<=0.5).\n",
        "2. The prediction results are based on acceptance probability. Given the two exam scores, we expected the model yields either high probability of \"fail\" or low probability of \"pass\".\n",
        "3. Training accuracy should be around **85%**."
      ]
    },
    {
      "cell_type": "code",
      "execution_count": null,
      "metadata": {
        "id": "E0-yJh9gxHV-",
        "colab": {
          "base_uri": "https://localhost:8080/"
        },
        "outputId": "cd89f0a7-2dd1-4787-a9c1-c264315df8db"
      },
      "outputs": [
        {
          "output_type": "stream",
          "name": "stdout",
          "text": [
            "accuracy =  87.5 %\n",
            "positive Probability =  0.27426661618176124\n",
            "negative  Probability =  0.7257333838182387\n"
          ]
        }
      ],
      "source": [
        "# Evaluate the model\n",
        "\"\"\"accuracy = correct / total\"\"\"\n",
        "y_pred = df['x1']*theta[1] +df['x2']*theta[2] + theta[0]\n",
        "y_pred[y_pred > 0.5] = 1\n",
        "y_pred[y_pred <= 0.5] = 0\n",
        "# 1 = pass   0 = fail\n",
        "prediction = (y_pred == df['label'])\n",
        "true_predictions = prediction[prediction == 1]\n",
        "accuracy = len(true_predictions) / len(y_pred)\n",
        "print(\"accuracy = \" , (accuracy * 100),\"%\")\n",
        "print(\"positive Probability = \",sigmoid(56*theta[1] + 32*theta[2] + theta[0]))\n",
        "print(\"negative  Probability = \",(1 - sigmoid(56*theta[1] + 32*theta[2] + theta[0])))"
      ]
    }
  ],
  "metadata": {
    "coursera": {
      "course_slug": "neural-networks-deep-learning",
      "graded_item_id": "XaIWT",
      "launcher_item_id": "zAgPl"
    },
    "kernelspec": {
      "display_name": "Python 3",
      "language": "python",
      "name": "python3"
    },
    "language_info": {
      "codemirror_mode": {
        "name": "ipython",
        "version": 3
      },
      "file_extension": ".py",
      "mimetype": "text/x-python",
      "name": "python",
      "nbconvert_exporter": "python",
      "pygments_lexer": "ipython3",
      "version": "3.8.5"
    },
    "colab": {
      "provenance": []
    }
  },
  "nbformat": 4,
  "nbformat_minor": 0
}